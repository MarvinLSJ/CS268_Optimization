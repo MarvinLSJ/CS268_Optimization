{
 "cells": [
  {
   "cell_type": "code",
   "execution_count": 198,
   "metadata": {},
   "outputs": [],
   "source": [
    "from scipy.optimize import minimize, LinearConstraint\n",
    "import numpy as np\n",
    "import time"
   ]
  },
  {
   "cell_type": "markdown",
   "metadata": {},
   "source": [
    "### Linear"
   ]
  },
  {
   "cell_type": "code",
   "execution_count": 254,
   "metadata": {
    "scrolled": false
   },
   "outputs": [
    {
     "name": "stdout",
     "output_type": "stream",
     "text": [
      "\n",
      "L-BFGS-B:\n",
      "Function value: [[380.99638076]]\n",
      "f error: [[0.99638076]]\n",
      "x value: [ 0.          0.          0.          0.          0.          0.\n",
      "  0.18978704  0.         20.         20.        ]\n",
      "x error: 0.18978704375444774\n",
      "runtime: 143.85294914245605 ms\n",
      "\n",
      "TNC:\n",
      "Function value: [[366.26848389]]\n",
      "f error: [[13.73151611]]\n",
      "x value: [ 0.          0.          0.          0.          0.          1.59310869\n",
      "  5.91718005  8.72515632  8.25618365 17.2014065 ]\n",
      "x error: 16.106790991404605\n",
      "runtime: 185.499906539917 ms\n",
      "\n",
      "SLSQP:\n",
      "Function value: 380.99638075226653\n",
      "f error: 0.996380752266532\n",
      "x value: [ 0.          0.          0.          0.          0.          0.\n",
      "  0.18979545  0.         20.         20.        ]\n",
      "x error: 0.18979545074841536\n",
      "runtime: 41.371822357177734 ms\n"
     ]
    }
   ],
   "source": [
    "cons = [{\"type\": \"ineq\", \"fun\": lambda x: A @ x.T }]\n",
    "\n",
    "init_x = np.matrix([0,0,0,0,0,0,0,0,0,0])\n",
    "# func = lambda x: x[0] + 2*x[1] + 3*x[2] + 4*x[3] + 5*x[4] + 6*x[5] + 7*x[6] + 8*x[7] + 9*x[8] + 10*x[9]\n",
    "\n",
    "def penalized_func(x,c=1,n=4, price_bound=200):\n",
    "    A = np.matrix([1,2,3,4,5,6,7,8,9,10])\n",
    "    prices = np.matrix([3,3,3,4,4,4,4,5,5,5])\n",
    "    fx = -A@(x.T)\n",
    "    \n",
    "    # Price constraint\n",
    "    if(prices@x.T > price_bound):\n",
    "        return fx + c*(prices@x.T-price_bound)**4\n",
    "    \n",
    "    # Bound constraint\n",
    "#     for i in range(10):\n",
    "#         if(x.item(i)>20 or x.item(i)<0): \n",
    "#             return 1e10\n",
    "\n",
    "    return -A@(x.T)\n",
    "\n",
    "\n",
    "bnds = ((0,20), (0,20), (0,20), (0,20), (0,20), (0,20), (0,20), (0,20), (0,20), (0,20))\n",
    "\n",
    "# Algo with Bound constraints: L-BFGS-B, TNC, SLSQP and trust-constr methods\n",
    "methods = ['L-BFGS-B','TNC','SLSQP']\n",
    "\n",
    "x_opt = [0,0,0,0,0,0,0,0,20,20]\n",
    "f_opt = 380\n",
    "\n",
    "for m in methods:\n",
    "    print(\"\\n%s:\" %m)\n",
    "    start = time.time()\n",
    "    \n",
    "    ans = minimize(penalized_func,init_x, method=m, bounds=bnds)\n",
    "    end = time.time()\n",
    "\n",
    "    runtime = (end-start)*1000\n",
    "\n",
    "    f_res = -ans.fun\n",
    "    x_res = np.array(ans['x'])\n",
    "    \n",
    "    x_error = np.linalg.norm(x_opt - x_res)\n",
    "    f_error = abs(f_res - f_opt)\n",
    "\n",
    "    print(\"Function value: {}\\nf error: {}\\nx value: {}\\nx error: {}\\nruntime: {} ms\".format(f_res, f_error, x_res, x_error, runtime))"
   ]
  },
  {
   "cell_type": "markdown",
   "metadata": {},
   "source": [
    "### Quadratic"
   ]
  },
  {
   "cell_type": "code",
   "execution_count": 298,
   "metadata": {},
   "outputs": [
    {
     "name": "stdout",
     "output_type": "stream",
     "text": [
      "\n",
      "L-BFGS-B:\n",
      "Function value: [[6801.05575089]]\n",
      "f error: [[1.05575089]]\n",
      "x value: [0.00000000e+00 0.00000000e+00 0.00000000e+00 0.00000000e+00\n",
      " 8.51871422e-03 2.89458775e-02 5.12218443e-02 2.00000000e+01\n",
      " 2.00000000e+01 8.89617132e-02]\n",
      "x error: 0.10699671050850994\n",
      "runtime: 50.16803741455078 ms\n",
      "\n",
      "TNC:\n",
      "Function value: [[6800.98723621]]\n",
      "f error: [[0.98723621]]\n",
      "x value: [ 0.          0.          0.          0.          0.          0.\n",
      "  0.20236388 20.         20.          0.        ]\n",
      "x error: 0.20236388426097385\n",
      "runtime: 129.28223609924316 ms\n",
      "\n",
      "SLSQP:\n",
      "Function value: 6801.190548277896\n",
      "f error: 1.1905482778956866\n",
      "x value: [5.23862197e-11 4.06813375e-11 2.99109836e-11 3.98187706e-11\n",
      " 2.90408808e-11 2.50137026e-10 2.14691419e-09 2.00000000e+01\n",
      " 2.00000000e+01 1.58780767e-01]\n",
      "x error: 0.15878076724397824\n",
      "runtime: 21.67510986328125 ms\n"
     ]
    }
   ],
   "source": [
    "cons = [{\"type\": \"ineq\", \"fun\": lambda x: A @ x.T }]\n",
    "\n",
    "init_x = np.matrix([1,1,1,1,1,1,1,1,1,1])\n",
    "# func = lambda x: x[0] + 2*x[1] + 3*x[2] + 4*x[3] + 5*x[4] + 6*x[5] + 7*x[6] + 8*x[7] + 9*x[8] + 10*x[9]\n",
    "\n",
    "def penalized_quadfunc(x,c=1,n=4, price_bound=200):\n",
    "    A = np.matrix([1,2,3,4,5,6,7,8,9,10])\n",
    "    prices = np.matrix([3,3,3,4,4,4,4,5,5,5])\n",
    "    fx = x[0] + 2*x[1] + 3*x[2] + 4*x[3] + 5*x[4] + 6*x[5] + 7*x[6] + 8*x[7]**2 + 9*x[8]**2 + 10*x[9]\n",
    "    \n",
    "    # Price constraint\n",
    "    if(prices@x.T > price_bound):\n",
    "        return -fx + c*(prices@x.T-price_bound)**4\n",
    "\n",
    "    return -fx\n",
    "\n",
    "\n",
    "bnds = ((0,20), (0,20), (0,20), (0,20), (0,20), (0,20), (0,20), (0,20), (0,20), (0,20))\n",
    "\n",
    "# Algo with Bound constraints: L-BFGS-B, TNC, SLSQP and trust-constr methods\n",
    "methods = ['L-BFGS-B','TNC','SLSQP']\n",
    "\n",
    "x_opt = [0,0,0,0,0,0,0,20,20,0]\n",
    "f_opt = 6800\n",
    "\n",
    "for m in methods:\n",
    "    print(\"\\n%s:\" %m)\n",
    "    start = time.time()\n",
    "    \n",
    "    ans = minimize(penalized_quadfunc, init_x, method=m, bounds=bnds)\n",
    "    end = time.time()\n",
    "\n",
    "    runtime = (end-start)*1000\n",
    "\n",
    "    f_res = -ans.fun\n",
    "    x_res = np.array(ans['x'])\n",
    "    \n",
    "    x_error = np.linalg.norm(x_opt - x_res)\n",
    "    f_error = abs(f_res - f_opt)\n",
    "\n",
    "    print(\"Function value: {}\\nf error: {}\\nx value: {}\\nx error: {}\\nruntime: {} ms\".format(f_res, f_error, x_res, x_error, runtime))"
   ]
  }
 ],
 "metadata": {
  "kernelspec": {
   "display_name": "Python [conda env:py36]",
   "language": "python",
   "name": "conda-env-py36-py"
  },
  "language_info": {
   "codemirror_mode": {
    "name": "ipython",
    "version": 3
   },
   "file_extension": ".py",
   "mimetype": "text/x-python",
   "name": "python",
   "nbconvert_exporter": "python",
   "pygments_lexer": "ipython3",
   "version": "3.6.6"
  }
 },
 "nbformat": 4,
 "nbformat_minor": 2
}
