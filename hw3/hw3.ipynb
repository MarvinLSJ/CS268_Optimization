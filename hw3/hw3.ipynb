{
 "cells": [
  {
   "cell_type": "code",
   "execution_count": 3,
   "metadata": {},
   "outputs": [],
   "source": [
    "import numpy as np\n",
    "from math import exp, sin\n",
    "import pandas as pd\n",
    "from SA import simulated_annealing, construct_graph, Graph_Coloring_Func"
   ]
  },
  {
   "cell_type": "markdown",
   "metadata": {},
   "source": [
    "# Experiment"
   ]
  },
  {
   "cell_type": "markdown",
   "metadata": {},
   "source": [
    "## Problem 1: Graph 2 Coloring"
   ]
  },
  {
   "cell_type": "markdown",
   "metadata": {},
   "source": [
    "**Code part is under the Experiment part, has been imported from SA.py**\n",
    "  \n",
    "**Implementation detail:**  \n",
    "Since the graph coloring problem and the function optimization problem use the same **simulated_annealing** function and the graph coloring problem need to the **extra input of graph** for sure, I set the graph input G as None by default. When the G is provided, the program will do graph 2 coloring, otherwise it will execute function optimization.  \n",
    "\n",
    "**Therefore, please make sure to provide the graph as follows when you want to test the graph 2 coloring problem:**  \n",
    "simulated_annealing(Graph_Coloring_Func, x_initial, allowed, t0, t_final, **G**)"
   ]
  },
  {
   "cell_type": "code",
   "execution_count": 4,
   "metadata": {},
   "outputs": [
    {
     "name": "stdout",
     "output_type": "stream",
     "text": [
      "Coloring Solution:[1. 0. 1. 0. 1.] \n",
      "Error: 0.0\n"
     ]
    }
   ],
   "source": [
    "N = 5\n",
    "G = construct_graph(N)\n",
    "x_initial = np.zeros(N)\n",
    "t0 = 10\n",
    "t_final = 0.1\n",
    "allowed = [0,1]\n",
    "\n",
    "bx, bs = simulated_annealing(Graph_Coloring_Func, x_initial, allowed, t0, t_final, G)\n",
    "print(\"Coloring Solution:{} \\nError: {}\".format(bx,bs))"
   ]
  },
  {
   "cell_type": "markdown",
   "metadata": {},
   "source": [
    "### Scale up problem sizes"
   ]
  },
  {
   "cell_type": "code",
   "execution_count": 61,
   "metadata": {},
   "outputs": [
    {
     "name": "stdout",
     "output_type": "stream",
     "text": [
      "Testing 5 ...\n",
      "Testing 10 ...\n",
      "Testing 15 ...\n",
      "Testing 20 ...\n",
      "Testing 25 ...\n",
      "Testing 30 ...\n",
      "Testing 35 ...\n",
      "Testing 40 ...\n",
      "Testing 50 ...\n"
     ]
    },
    {
     "data": {
      "text/html": [
       "<div>\n",
       "<style scoped>\n",
       "    .dataframe tbody tr th:only-of-type {\n",
       "        vertical-align: middle;\n",
       "    }\n",
       "\n",
       "    .dataframe tbody tr th {\n",
       "        vertical-align: top;\n",
       "    }\n",
       "\n",
       "    .dataframe thead th {\n",
       "        text-align: right;\n",
       "    }\n",
       "</style>\n",
       "<table border=\"1\" class=\"dataframe\">\n",
       "  <thead>\n",
       "    <tr style=\"text-align: right;\">\n",
       "      <th></th>\n",
       "      <th>Graph_size</th>\n",
       "      <th>Error_mean</th>\n",
       "      <th>Error_std</th>\n",
       "    </tr>\n",
       "  </thead>\n",
       "  <tbody>\n",
       "    <tr>\n",
       "      <th>0</th>\n",
       "      <td>5.0</td>\n",
       "      <td>0.05</td>\n",
       "      <td>0.217945</td>\n",
       "    </tr>\n",
       "    <tr>\n",
       "      <th>0</th>\n",
       "      <td>10.0</td>\n",
       "      <td>0.40</td>\n",
       "      <td>0.583095</td>\n",
       "    </tr>\n",
       "    <tr>\n",
       "      <th>0</th>\n",
       "      <td>15.0</td>\n",
       "      <td>0.95</td>\n",
       "      <td>0.804674</td>\n",
       "    </tr>\n",
       "    <tr>\n",
       "      <th>0</th>\n",
       "      <td>20.0</td>\n",
       "      <td>1.75</td>\n",
       "      <td>0.993730</td>\n",
       "    </tr>\n",
       "    <tr>\n",
       "      <th>0</th>\n",
       "      <td>25.0</td>\n",
       "      <td>2.45</td>\n",
       "      <td>1.596089</td>\n",
       "    </tr>\n",
       "    <tr>\n",
       "      <th>0</th>\n",
       "      <td>30.0</td>\n",
       "      <td>2.85</td>\n",
       "      <td>1.194780</td>\n",
       "    </tr>\n",
       "    <tr>\n",
       "      <th>0</th>\n",
       "      <td>35.0</td>\n",
       "      <td>3.85</td>\n",
       "      <td>1.796524</td>\n",
       "    </tr>\n",
       "    <tr>\n",
       "      <th>0</th>\n",
       "      <td>40.0</td>\n",
       "      <td>4.80</td>\n",
       "      <td>1.805547</td>\n",
       "    </tr>\n",
       "    <tr>\n",
       "      <th>0</th>\n",
       "      <td>50.0</td>\n",
       "      <td>7.05</td>\n",
       "      <td>2.132487</td>\n",
       "    </tr>\n",
       "  </tbody>\n",
       "</table>\n",
       "</div>"
      ],
      "text/plain": [
       "   Graph_size  Error_mean  Error_std\n",
       "0         5.0        0.05   0.217945\n",
       "0        10.0        0.40   0.583095\n",
       "0        15.0        0.95   0.804674\n",
       "0        20.0        1.75   0.993730\n",
       "0        25.0        2.45   1.596089\n",
       "0        30.0        2.85   1.194780\n",
       "0        35.0        3.85   1.796524\n",
       "0        40.0        4.80   1.805547\n",
       "0        50.0        7.05   2.132487"
      ]
     },
     "execution_count": 61,
     "metadata": {},
     "output_type": "execute_result"
    }
   ],
   "source": [
    "Ns = [5, 10, 15, 20, 25, 30, 35, 40, 50]\n",
    "test_num = 20\n",
    "record = {}\n",
    "\n",
    "for N in Ns:\n",
    "    print(\"Testing %d ...\" %N)\n",
    "    record[N] = []\n",
    "    for i in range(test_num):\n",
    "        G = construct_graph(N)\n",
    "        x_initial = np.zeros(N)\n",
    "        t0 = 10\n",
    "        t_final = 0.1\n",
    "        allowed = [0,1]\n",
    "\n",
    "        bx, bs = simulated_annealing(Graph_Coloring_Func, x_initial, allowed, t0, t_final, G)\n",
    "        record[N].append(bs)\n",
    "\n",
    "result = pd.DataFrame(columns= ['Graph_size', 'Error_mean', 'Error_std'])\n",
    "for _, N in enumerate(record):\n",
    "    scores = record[N]\n",
    "    res = pd.DataFrame(np.array([N, np.mean(scores), np.std(scores)])).T\n",
    "    res.columns = ['Graph_size', 'Error_mean', 'Error_std']\n",
    "    result = result.append(res)\n",
    "result"
   ]
  },
  {
   "cell_type": "code",
   "execution_count": 289,
   "metadata": {},
   "outputs": [],
   "source": [
    "result.to_csv(\"graph_scale.csv\", index=None)"
   ]
  },
  {
   "cell_type": "markdown",
   "metadata": {},
   "source": [
    "### Generalize to multi-way choice for value"
   ]
  },
  {
   "cell_type": "code",
   "execution_count": 73,
   "metadata": {},
   "outputs": [
    {
     "name": "stdout",
     "output_type": "stream",
     "text": [
      "Coloring Solution:[1. 0. 2. 0. 2. 0. 1. 0. 2. 1. 2. 0. 1. 0. 1. 2. 0. 1. 2. 1. 2. 0. 2. 0.\n",
      " 2. 1. 0. 1. 0. 1. 0. 2. 1. 2. 1. 2. 0. 1. 0. 2. 0. 2. 0. 1. 0. 2. 0. 1.\n",
      " 0. 1.] \n",
      "Error: 0.0\n"
     ]
    }
   ],
   "source": [
    "N = 50\n",
    "G = construct_graph(N)\n",
    "x_initial = np.zeros(N)\n",
    "t0 = 10\n",
    "t_final = 0.1\n",
    "allowed = [0,1,2]\n",
    "bx, bs = simulated_annealing(Graph_Coloring_Func, x_initial, allowed, t0, t_final, G)\n",
    "print(\"Coloring Solution:{} \\nError: {}\".format(bx,bs))"
   ]
  },
  {
   "cell_type": "markdown",
   "metadata": {},
   "source": [
    "As we can see from aboving experiment, when we generalize to multi-choice, the coloring ability has been greatly improved:  \n",
    "  \n",
    "2-coloring SA could barely handle the graph with the size of 50, but 3-coloring SA can take it easily."
   ]
  },
  {
   "cell_type": "markdown",
   "metadata": {},
   "source": [
    "## Problem 2: Function Optimization"
   ]
  },
  {
   "cell_type": "markdown",
   "metadata": {},
   "source": [
    "Choose following as test function:$$f(x)=x sin(\\frac{1}{2}x)$$ \n",
    "Limit the range in \\[-50, 50\\] where contains 9 local optima and 2 of them are the best result."
   ]
  },
  {
   "cell_type": "code",
   "execution_count": 74,
   "metadata": {},
   "outputs": [],
   "source": [
    "from math import sin\n",
    "\n",
    "# vector version of function\n",
    "def func_test(x):\n",
    "    return x[0]*sin((1/2)*x[0])\n",
    "\n",
    "# scalar version of function\n",
    "def func_test1(x):\n",
    "    return x*sin((1/2)*x)\n"
   ]
  },
  {
   "cell_type": "markdown",
   "metadata": {},
   "source": [
    "### Visualize"
   ]
  },
  {
   "cell_type": "code",
   "execution_count": 88,
   "metadata": {
    "scrolled": true
   },
   "outputs": [
    {
     "data": {
      "image/png": "[encoded data removed]",
      "text/plain": [
       "<Figure size 432x288 with 1 Axes>"
      ]
     },
     "metadata": {
      "needs_background": "light"
     },
     "output_type": "display_data"
    }
   ],
   "source": [
    "import matplotlib.pyplot as plt\n",
    "r = 50\n",
    "func = func_test\n",
    "x_initial = [0.0]\n",
    "t0 = 10\n",
    "t_final = 0.1\n",
    "allowed = [-r,r]\n",
    "bx, bs = simulated_annealing(func_test, x_initial, allowed, t0, t_final)\n",
    "GSx, GSf = GS(func_test1,x_initial[0])\n",
    "\n",
    "xs = np.linspace(-r,r,1000)\n",
    "ys = [func([x]) for x in xs]\n",
    "plt.plot(xs,ys)\n",
    "plt.plot(x_initial, func(x_initial), 'g.', label='initial point')\n",
    "plt.plot(bx, bs,'r.', label='SA result point')\n",
    "plt.plot(GSx, GSf, 'b.', label='GS result point')\n",
    "plt.legend()\n",
    "plt.show()"
   ]
  },
  {
   "cell_type": "markdown",
   "metadata": {},
   "source": [
    "From aboving plot, it's obvious that SA can reach a more global optimum than coordinate descent. "
   ]
  },
  {
   "cell_type": "markdown",
   "metadata": {},
   "source": [
    "### Evaluate"
   ]
  },
  {
   "cell_type": "markdown",
   "metadata": {},
   "source": [
    "There are 5 sets of optima here, and we could assign different error weights depending on how optimal the point is.\n",
    "1. Counting: Number points that belong to different optimal levels, if x is in \\[optimum_x +- gap\\]\n",
    "  \n",
    "2. Average Weighted Error: Assign different weights to different optimal range, sum up and average to get error measure."
   ]
  },
  {
   "cell_type": "code",
   "execution_count": 287,
   "metadata": {},
   "outputs": [
    {
     "data": {
      "image/png": "[encoded data removed]",
      "text/plain": [
       "<Figure size 504x360 with 1 Axes>"
      ]
     },
     "metadata": {
      "needs_background": "light"
     },
     "output_type": "display_data"
    },
    {
     "name": "stdout",
     "output_type": "stream",
     "text": [
      "SA average error to the nearest optimum point: 3.1393\n",
      "GS average error to the nearest optimum point: 0.0459\n"
     ]
    }
   ],
   "source": [
    "test_num = 50\n",
    "\n",
    "r = 50\n",
    "func = func_test\n",
    "x_initial = [0.0]\n",
    "t0 = 10\n",
    "t_final = 0.1\n",
    "allowed = [-r,r]\n",
    "SA_res = {}\n",
    "SA_err = 0.0\n",
    "GS_res = {}\n",
    "GS_err = 0.0\n",
    "ran = [0, 9.5, 22, 34.5, 47]\n",
    "ran_value = [func([0]), func([9.5]), func([22]), func([34.5]), func([47])]\n",
    "ran_weight = [5,4,3,2,1]\n",
    "gap = 2\n",
    "for c in range(5):\n",
    "    SA_res[c] = 0\n",
    "    GS_res[c] = 0\n",
    "\n",
    "for i in range(test_num):\n",
    "    \n",
    "    SAx, SAf = simulated_annealing(func_test, x_initial, allowed, t0, t_final)\n",
    "    GSx, GSf = GS(func_test1,x_initial[0])\n",
    "    \n",
    "    # SA count\n",
    "    if(ran[0]-gap < SAx[0] < ran[0]+gap):\n",
    "        SA_res[0] += 1\n",
    "        SA_err += ran_weight[0] * abs(SAf-ran_value[0])\n",
    "    elif(ran[1]-gap < SAx[0] < ran[1]+gap):\n",
    "        SA_res[1] += 1\n",
    "        SA_err += ran_weight[1] * abs(SAf-ran_value[1])\n",
    "    elif(ran[2]-gap < SAx[0] < ran[2]+gap):\n",
    "        SA_res[2] += 1\n",
    "        SA_err += ran_weight[2] * abs(SAf-ran_value[2])\n",
    "    elif(ran[3]-gap < SAx[0] < ran[3]+gap):\n",
    "        SA_res[3] += 1\n",
    "        SA_err += ran_weight[3] * abs(SAf-ran_value[3])\n",
    "    elif(ran[4]-gap < SAx[0] < ran[4]+gap):\n",
    "        SA_res[4] += 1\n",
    "        SA_err += ran_weight[4] * abs(SAf-ran_value[4])\n",
    "        \n",
    "    # GS count\n",
    "    if(ran[0]-gap < GSx < ran[0]+gap):\n",
    "        GS_res[0] += 1\n",
    "        GS_err += ran_weight[0] * abs(GSf-ran_value[0])\n",
    "    elif(ran[1]-gap < GSx < ran[1]+gap):\n",
    "        GS_res[1] += 1\n",
    "        GS_err += ran_weight[1] * abs(GSf-ran_value[1])\n",
    "    elif(ran[2]-gap < GSx < ran[2]+gap):\n",
    "        GS_res[2] += 1\n",
    "        GS_err += ran_weight[2] * abs(GSf-ran_value[2])\n",
    "    elif(ran[3]-gap < GSx < ran[3]+gap):\n",
    "        GS_res[3] += 1\n",
    "        GS_err += ran_weight[3] * abs(GSf-ran_value[3])\n",
    "    elif(ran[4]-gap < GSx < ran[4]+gap):\n",
    "        GS_res[4] += 1\n",
    "        GS_err += ran_weight[4] * abs(GSf-ran_value[4])\n",
    "\n",
    "\n",
    "\n",
    "index = np.arange(5)\n",
    "width = 0.35\n",
    "opacity = 0.8\n",
    "\n",
    "plt.figure(figsize=(7,5))\n",
    "plt.bar(index,SA_res.values(), width, alpha=opacity, label='SA result')\n",
    "plt.bar(index+width,GS_res.values(), width, alpha=opacity, label='GS result')\n",
    "plt.tight_layout()\n",
    "plt.xticks(index + width/2, ('Level_1 (x=0)', 'Level_2 (x=9.5)', 'Level_3 (x=22)', 'Level_4 (x=34.5)','Level_5 (x=47)'))\n",
    "plt.title(\"SA & GS Result Comparison\")\n",
    "plt.ylabel(\"Count\")\n",
    "plt.xlabel(\"Optimal Level\")\n",
    "plt.legend()\n",
    "plt.show()\n",
    "\n",
    "print(\"SA average error to the nearest optimum point: %.4f\" %(SA_err/sum(SA_res.values())))\n",
    "print(\"GS average error to the nearest optimum point: %.4f\" %(GS_err/sum(GS_res.values())))"
   ]
  },
  {
   "cell_type": "markdown",
   "metadata": {},
   "source": [
    "For GS, results are more concentrated around the worst optimal point x=0, but errors to this point is relatively small.  \n",
    "SA can get to higher level optima easily, but the precision is relatively low."
   ]
  },
  {
   "cell_type": "markdown",
   "metadata": {},
   "source": [
    "# Code"
   ]
  },
  {
   "cell_type": "markdown",
   "metadata": {},
   "source": [
    "### Simulated Annealing Main Function"
   ]
  },
  {
   "cell_type": "code",
   "execution_count": 15,
   "metadata": {},
   "outputs": [],
   "source": [
    "\"\"\"\n",
    "Main Function Implementing Simulated Annealing\n",
    "\"\"\"\n",
    "def simulated_annealing(func, x0, allowed, t0, t_final, G=None, N_T=5, N_c=2, T_step=0.05, step = 0.9, verbose=False):\n",
    "    if G is not None:\n",
    "        # Execute graph coloring problem\n",
    "        if verbose:\n",
    "            print(\"Solving Graph 2-Coloring Problem\")\n",
    "\n",
    "        def wrapper_func(x, G=G):\n",
    "            return func(x, G)\n",
    "\n",
    "        def update_state(x, allowed, s):\n",
    "            return graph_step(x, allowed)\n",
    "    else:\n",
    "        # Execute function optimization problem\n",
    "        if verbose:\n",
    "            print(\"Solving Function Optimization Problem\")\n",
    "\n",
    "        def wrapper_func(x):\n",
    "            return func(x)\n",
    "\n",
    "        def update_state(x, allowed, s):\n",
    "            return func_step(x, allowed, s)\n",
    "\n",
    "    curr_temp = t0\n",
    "    ending_temp = t_final\n",
    "    curr_state = x0\n",
    "    curr_score = wrapper_func(curr_state)\n",
    "    best = x0\n",
    "    best_score = curr_score\n",
    "    dim = len(curr_state)\n",
    "    ac_ratio = np.ones(dim)\n",
    "\n",
    "    while curr_temp > ending_temp:\n",
    "\n",
    "        # Sweep\n",
    "        N_loop1 = N_T\n",
    "        while N_loop1 > 0:\n",
    "\n",
    "            # Cycle\n",
    "            N_loop2 = N_c\n",
    "            while N_loop2 > 0:\n",
    "                next_state, i = update_state(curr_state.copy(), allowed, step)\n",
    "\n",
    "                # Boltzman\n",
    "                delta_func = wrapper_func(next_state) - wrapper_func(curr_state)\n",
    "                if delta_func < 0:\n",
    "                    # if next is smaller, accept the change\n",
    "                    curr_state = next_state\n",
    "                else:\n",
    "                    # if next is larger, accept with some probability\n",
    "                    prob = exp(-delta_func / curr_temp)\n",
    "                    threshold_prob = np.random.uniform()\n",
    "                    if prob > threshold_prob:\n",
    "                        # accept the change\n",
    "                        curr_state = next_state\n",
    "                    else:\n",
    "                        # refuse\n",
    "                        curr_state = curr_state\n",
    "                        ac_ratio[i] = (ac_ratio[i] - 1 / N_c) if (ac_ratio[i] - 1 / N_c) > 0 else 1 / (1 + N_c)\n",
    "\n",
    "                N_loop2 -= 1\n",
    "\n",
    "            # update stepsize\n",
    "            step = stepsize_factor(ac_ratio[i]) * step\n",
    "            #             print(stepsize_factor(ac_ratio[i]))\n",
    "            N_loop1 -= 1\n",
    "\n",
    "        curr_temp = curr_temp - T_step\n",
    "\n",
    "    best = curr_state\n",
    "    best_score = wrapper_func(curr_state)\n",
    "\n",
    "#     print(best, best_score)\n",
    "    return best, best_score"
   ]
  },
  {
   "cell_type": "markdown",
   "metadata": {},
   "source": [
    "### Coordinate Descent\n",
    "There's only one dimension in this test function, so here's only the 1D golden section function"
   ]
  },
  {
   "cell_type": "code",
   "execution_count": 89,
   "metadata": {},
   "outputs": [],
   "source": [
    "# line search\n",
    "\n",
    "def GS(f, xs=0, s=1, mu=0, sigma=2):\n",
    "# optimization method used = Integrated Bracketing and Golden Section Algorithm\n",
    "    \n",
    "    \n",
    "    # 1 Initialize randomly\n",
    "    x1 = xs + np.random.normal(mu, sigma, 1)[0]\n",
    "    tau = 0.618\n",
    "\n",
    "    ep_R = 1e-7\n",
    "    ep_abs = 1e-6\n",
    "\n",
    "    # 2 Evaluate f2\n",
    "    x2 = x1 + s\n",
    "\n",
    "    # 3 Check and invert axis\n",
    "    if f(x2) < f(x1):\n",
    "        f2 = f(x1 + s)\n",
    "    else:\n",
    "        temp = x1\n",
    "        x1 = x2\n",
    "        x2 = temp\n",
    "        s = -s\n",
    "        f2 = f(x1 + s)\n",
    "\n",
    "    # 4 Evaluate f4 based on tau\n",
    "\n",
    "    x2s = []\n",
    "    f2s = []\n",
    "    x4s = []\n",
    "    f4s = []\n",
    "\n",
    "    s = s / tau\n",
    "    x4 = x2 + s\n",
    "    f4 = f(x4)\n",
    "\n",
    "    x4s.append(x4)\n",
    "    f4s.append(f(x4))\n",
    "\n",
    "    # 5 6 Check and make sure f4 > f2\n",
    "    while f4 <= f2:\n",
    "        x1 = x2\n",
    "        x2 = x4\n",
    "        s = s / tau\n",
    "        x4 = x2 + s\n",
    "        f4 = f(x4)\n",
    "        x4s.append(x4)\n",
    "        f4s.append(f(x4))\n",
    "    i = 0\n",
    "\n",
    "    x3s = []\n",
    "    f3s = []\n",
    "\n",
    "    # do\n",
    "    x3 = tau * x4 + (1 - tau) * x1\n",
    "    f3 = f(x3)\n",
    "    x3s.append(x3)\n",
    "    f3s.append(f3)\n",
    "\n",
    "    f_new = (f(x1) + f(x2) + f(x3))/3\n",
    "    f_old = f_new+1\n",
    "\n",
    "    while (abs(x1 - x3) > ep_R * abs(x2) + ep_abs) and (abs(f_new - f_old) > ep_R*f(x2) + ep_abs):\n",
    "\n",
    "        # 8 Loop on\n",
    "        if (f2 < f3):\n",
    "            x4 = x1\n",
    "            x1 = x3\n",
    "        else:\n",
    "            x1 = x2\n",
    "            x2 = x3\n",
    "            f2 = f3\n",
    "\n",
    "        # 7 Evaluate f3\n",
    "        x3 = tau * x4 + (1 - tau) * x1\n",
    "        f3 = f(x3)\n",
    "        x3s.append(x3)\n",
    "        f3s.append(f3)\n",
    "        f_old = f_new\n",
    "        f_new = (f(x1) + f(x2) + f(x3)) / 3\n",
    "        i += 1\n",
    "        \n",
    "    return x2, f(x2)"
   ]
  },
  {
   "cell_type": "markdown",
   "metadata": {},
   "source": [
    "#### Construct a uni-connected graph with scalable size"
   ]
  },
  {
   "cell_type": "code",
   "execution_count": 3,
   "metadata": {},
   "outputs": [],
   "source": [
    "def construct_graph(N):\n",
    "    g = np.zeros((N,N))\n",
    "    for i in range(N):\n",
    "        for j in range(N):\n",
    "            if abs(i-j) == 1:\n",
    "                if j > i and j%N != 0:\n",
    "                    g[i][j] = 1\n",
    "                elif i > j and i%N !=0:\n",
    "                    g[i][j] = 1\n",
    "            if abs(i-j) == N:\n",
    "                g[i][j] = 1\n",
    "    return g"
   ]
  },
  {
   "cell_type": "markdown",
   "metadata": {},
   "source": [
    "#### Flip elements in graph"
   ]
  },
  {
   "cell_type": "code",
   "execution_count": 4,
   "metadata": {},
   "outputs": [],
   "source": [
    "def graph_step(x, states):\n",
    "    # flip r-th element\n",
    "    r = np.random.randint(len(x))\n",
    "    # substitute randomly with another different value\n",
    "    c = np.random.randint(len(states))\n",
    "    while(states[c]==x[r]):\n",
    "        c = np.random.randint(len(states))\n",
    "    \n",
    "    x[r] = states[c]\n",
    "    return x,r"
   ]
  },
  {
   "cell_type": "markdown",
   "metadata": {},
   "source": [
    "#### Update real number value"
   ]
  },
  {
   "cell_type": "code",
   "execution_count": 5,
   "metadata": {},
   "outputs": [],
   "source": [
    "def func_step(x, allowed, step, global_min=-100, global_max=100):\n",
    "    dim = len(x)\n",
    "    r = np.random.rand()*2 -1\n",
    "    i = np.random.randint(dim)\n",
    "    x[i] += 1.0*r*step\n",
    "    \n",
    "    # If we have specified bound as left bound=allowed[0], right bound=allowed[1]\n",
    "    if len(allowed) != 0:        \n",
    "        if x[i]<allowed[0] or x[i]>allowed[1]:\n",
    "            return [(allowed[1] - allowed[0])*np.random.random() + allowed[0]], i\n",
    "    # If exceeding global bound, get a random number\n",
    "    if x[i]<global_min or x[i]>global_max:\n",
    "        return [200*np.random.random()-100], i\n",
    "    \n",
    "    return x,i"
   ]
  },
  {
   "cell_type": "markdown",
   "metadata": {},
   "source": [
    "#### Helper function g(accept_ratio) to adjust step size"
   ]
  },
  {
   "cell_type": "code",
   "execution_count": 6,
   "metadata": {},
   "outputs": [],
   "source": [
    "def stepsize_factor(a, constant=2):\n",
    "    c = constant\n",
    "    if(a<0.4):\n",
    "        return 1/(1+((c*(0.4-a))/0.4))\n",
    "    elif(a>0.6):\n",
    "        return 1 + (c*(a-0.6))/0.4\n",
    "    else:\n",
    "        return a"
   ]
  },
  {
   "cell_type": "markdown",
   "metadata": {},
   "source": [
    "#### Graph coloring problem evaluation function"
   ]
  },
  {
   "cell_type": "code",
   "execution_count": 7,
   "metadata": {},
   "outputs": [],
   "source": [
    "def Graph_Coloring_Func(x, G):\n",
    "    dim = len(x)\n",
    "#     if(len(states) == 2):\n",
    "#         return (np.trace(np.dot(G,np.outer(x,x.T))) + np.trace(np.dot(G,np.outer(1-x,(1-x).T))))/2\n",
    "#     else:\n",
    "    Esum = 0\n",
    "    for i in range(dim):\n",
    "        for j in range(dim):\n",
    "            if x[i]==x[j] and i!=j and G[i][j] !=0:\n",
    "                Esum += 1\n",
    "    return Esum*1.0/2"
   ]
  }
 ],
 "metadata": {
  "kernelspec": {
   "display_name": "Python [conda env:py36]",
   "language": "python",
   "name": "conda-env-py36-py"
  },
  "language_info": {
   "codemirror_mode": {
    "name": "ipython",
    "version": 3
   },
   "file_extension": ".py",
   "mimetype": "text/x-python",
   "name": "python",
   "nbconvert_exporter": "python",
   "pygments_lexer": "ipython3",
   "version": "3.6.6"
  }
 },
 "nbformat": 4,
 "nbformat_minor": 2
}
